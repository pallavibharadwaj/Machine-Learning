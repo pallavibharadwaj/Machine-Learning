{
 "cells": [
  {
   "cell_type": "code",
   "execution_count": 197,
   "metadata": {
    "scrolled": false
   },
   "outputs": [
    {
     "name": "stdout",
     "output_type": "stream",
     "text": [
      "       0    1    2    3               4\n",
      "0    5.1  3.5  1.4  0.2     Iris-setosa\n",
      "1    4.9  3.0  1.4  0.2     Iris-setosa\n",
      "2    4.7  3.2  1.3  0.2     Iris-setosa\n",
      "3    4.6  3.1  1.5  0.2     Iris-setosa\n",
      "4    5.0  3.6  1.4  0.2     Iris-setosa\n",
      "..   ...  ...  ...  ...             ...\n",
      "145  6.7  3.0  5.2  2.3  Iris-virginica\n",
      "146  6.3  2.5  5.0  1.9  Iris-virginica\n",
      "147  6.5  3.0  5.2  2.0  Iris-virginica\n",
      "148  6.2  3.4  5.4  2.3  Iris-virginica\n",
      "149  5.9  3.0  5.1  1.8  Iris-virginica\n",
      "\n",
      "[150 rows x 5 columns]\n"
     ]
    }
   ],
   "source": [
    "import numpy as np\n",
    "import pandas as pd\n",
    "\n",
    "def load_data():\n",
    "    URL_='https://archive.ics.uci.edu/ml/machine-learning-databases/iris/iris.data'\n",
    "    data = pd.read_csv(URL_, header = None)\n",
    "    print(data)\n",
    "    \n",
    "    # make the dataset linearly separable - strip the last 50 records\n",
    "    data = data[:100]\n",
    "    data[4] = np.where(data.iloc[:, -1]=='Iris-setosa', 0, 1)\n",
    "    data = np.asmatrix(data, dtype = 'float64')\n",
    "    return data\n",
    "\n",
    "data = load_data()"
   ]
  },
  {
   "cell_type": "code",
   "execution_count": 212,
   "metadata": {},
   "outputs": [
    {
     "data": {
      "image/png": "[encoded data removed]",
      "text/plain": [
       "<Figure size 432x288 with 1 Axes>"
      ]
     },
     "metadata": {
      "needs_background": "light"
     },
     "output_type": "display_data"
    }
   ],
   "source": [
    "import matplotlib.pyplot as plt\n",
    "\n",
    "plt.scatter(np.array(data[:50,0]), np.array(data[:50,2]), marker='o', label='setosa')\n",
    "plt.scatter(np.array(data[50:,0]), np.array(data[50:,2]), marker='o', label='versicolor')\n",
    "plt.xlabel('petal length')\n",
    "plt.ylabel('sepal length')\n",
    "plt.legend()\n",
    "plt.show()"
   ]
  },
  {
   "cell_type": "code",
   "execution_count": 210,
   "metadata": {
    "scrolled": true
   },
   "outputs": [
    {
     "name": "stdout",
     "output_type": "stream",
     "text": [
      "[1, 3, 1, 0, 0, 0, 0, 0, 0, 0]\n"
     ]
    }
   ],
   "source": [
    "def perceptron(data, num_iter):\n",
    "    features = data[:, :-1]\n",
    "    labels = data[:, -1]\n",
    "    \n",
    "    # set weights and bias to 0\n",
    "    w = np.zeros(shape=(1, features.shape[1]+1))\n",
    "    bias = 0\n",
    "    \n",
    "    misclassified_ = [] \n",
    "  \n",
    "    for epoch in range(num_iter):\n",
    "        misclassified = 0\n",
    "        for x, label in zip(features, labels):\n",
    "            x = np.insert(x,0,1)\n",
    "            y = np.dot(w, x.transpose())\n",
    "            target = 1.0 if (y > 0) else 0.0\n",
    "            \n",
    "            delta = (label.item(0,0) - target)\n",
    "            \n",
    "            if(delta): # misclassified\n",
    "                misclassified += 1\n",
    "                w += (delta * x)\n",
    "                #w[0] += delta\n",
    "        \n",
    "        misclassified_.append(misclassified)\n",
    "    return (w, misclassified_)\n",
    "             \n",
    "num_iter = 10\n",
    "w, misclassified_ = perceptron(data, num_iter)\n",
    "print(misclassified_)"
   ]
  },
  {
   "cell_type": "code",
   "execution_count": 204,
   "metadata": {
    "scrolled": false
   },
   "outputs": [
    {
     "data": {
      "image/png": "[encoded data removed]",
      "text/plain": [
       "<Figure size 432x288 with 1 Axes>"
      ]
     },
     "metadata": {
      "needs_background": "light"
     },
     "output_type": "display_data"
    }
   ],
   "source": [
    "import matplotlib.pyplot as plt\n",
    "\n",
    "epochs = np.arange(1, num_iter+1)\n",
    "plt.plot(epochs, misclassified_)\n",
    "plt.xlabel('iterations')\n",
    "plt.ylabel('misclassified')\n",
    "plt.show()"
   ]
  }
 ],
 "metadata": {
  "kernelspec": {
   "display_name": "Python 3",
   "language": "python",
   "name": "python3"
  },
  "language_info": {
   "codemirror_mode": {
    "name": "ipython",
    "version": 3
   },
   "file_extension": ".py",
   "mimetype": "text/x-python",
   "name": "python",
   "nbconvert_exporter": "python",
   "pygments_lexer": "ipython3",
   "version": "3.7.4"
  }
 },
 "nbformat": 4,
 "nbformat_minor": 2
}
